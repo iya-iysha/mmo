{
 "cells": [
  {
   "attachments": {},
   "cell_type": "markdown",
   "metadata": {},
   "source": [
    "# Лабораторная работа №2. Создание истории данных\n",
    "#### Задание:\n",
    "\n",
    "Выбрать набор данных (датасет), содержащий категориальные и числовые признаки и пропуски в данных. Для выполнения следующих пунктов можно использовать несколько различных наборов данных (один для обработки пропусков, другой для категориальных признаков и т.д.).\n",
    "Для выбранного датасета (датасетов) на основе материалов лекций решить следующие задачи:\n",
    "1. устранение пропусков в данных;\n",
    "1. кодирование категориальных признаков;\n",
    "1. нормализацию числовых признаков."
   ]
  },
  {
   "cell_type": "code",
   "execution_count": 53,
   "metadata": {},
   "outputs": [],
   "source": [
    "import numpy as np\n",
    "import pandas as pd\n",
    "import seaborn as sns\n",
    "import matplotlib.pyplot as plt\n",
    "import scipy.stats as stats\n",
    "from sklearn.impute import KNNImputer, SimpleImputer\n",
    "from category_encoders.count import CountEncoder as ce_CountEncoder"
   ]
  },
  {
   "cell_type": "code",
   "execution_count": 6,
   "metadata": {},
   "outputs": [
    {
     "name": "stdout",
     "output_type": "stream",
     "text": [
      "(3755, 11)\n"
     ]
    },
    {
     "data": {
      "text/html": [
       "<div>\n",
       "<style scoped>\n",
       "    .dataframe tbody tr th:only-of-type {\n",
       "        vertical-align: middle;\n",
       "    }\n",
       "\n",
       "    .dataframe tbody tr th {\n",
       "        vertical-align: top;\n",
       "    }\n",
       "\n",
       "    .dataframe thead th {\n",
       "        text-align: right;\n",
       "    }\n",
       "</style>\n",
       "<table border=\"1\" class=\"dataframe\">\n",
       "  <thead>\n",
       "    <tr style=\"text-align: right;\">\n",
       "      <th></th>\n",
       "      <th>work_year</th>\n",
       "      <th>experience_level</th>\n",
       "      <th>employment_type</th>\n",
       "      <th>job_title</th>\n",
       "      <th>salary</th>\n",
       "      <th>salary_currency</th>\n",
       "      <th>salary_in_usd</th>\n",
       "      <th>employee_residence</th>\n",
       "      <th>remote_ratio</th>\n",
       "      <th>company_location</th>\n",
       "      <th>company_size</th>\n",
       "    </tr>\n",
       "  </thead>\n",
       "  <tbody>\n",
       "    <tr>\n",
       "      <th>0</th>\n",
       "      <td>2023</td>\n",
       "      <td>SE</td>\n",
       "      <td>FT</td>\n",
       "      <td>Principal Data Scientist</td>\n",
       "      <td>80000.0</td>\n",
       "      <td>EUR</td>\n",
       "      <td>85847.0</td>\n",
       "      <td>ES</td>\n",
       "      <td>100</td>\n",
       "      <td>ES</td>\n",
       "      <td>L</td>\n",
       "    </tr>\n",
       "    <tr>\n",
       "      <th>1</th>\n",
       "      <td>2023</td>\n",
       "      <td>MI</td>\n",
       "      <td>CT</td>\n",
       "      <td>ML Engineer</td>\n",
       "      <td>30000.0</td>\n",
       "      <td>USD</td>\n",
       "      <td>30000.0</td>\n",
       "      <td>NaN</td>\n",
       "      <td>100</td>\n",
       "      <td>US</td>\n",
       "      <td>S</td>\n",
       "    </tr>\n",
       "    <tr>\n",
       "      <th>2</th>\n",
       "      <td>2023</td>\n",
       "      <td>MI</td>\n",
       "      <td>CT</td>\n",
       "      <td>ML Engineer</td>\n",
       "      <td>25500.0</td>\n",
       "      <td>USD</td>\n",
       "      <td>25500.0</td>\n",
       "      <td>US</td>\n",
       "      <td>100</td>\n",
       "      <td>US</td>\n",
       "      <td>S</td>\n",
       "    </tr>\n",
       "    <tr>\n",
       "      <th>3</th>\n",
       "      <td>2023</td>\n",
       "      <td>SE</td>\n",
       "      <td>FT</td>\n",
       "      <td>Data Scientist</td>\n",
       "      <td>175000.0</td>\n",
       "      <td>USD</td>\n",
       "      <td>175000.0</td>\n",
       "      <td>CA</td>\n",
       "      <td>100</td>\n",
       "      <td>CA</td>\n",
       "      <td>M</td>\n",
       "    </tr>\n",
       "    <tr>\n",
       "      <th>4</th>\n",
       "      <td>2023</td>\n",
       "      <td>SE</td>\n",
       "      <td>FT</td>\n",
       "      <td>Data Scientist</td>\n",
       "      <td>120000.0</td>\n",
       "      <td>USD</td>\n",
       "      <td>120000.0</td>\n",
       "      <td>CA</td>\n",
       "      <td>100</td>\n",
       "      <td>CA</td>\n",
       "      <td>M</td>\n",
       "    </tr>\n",
       "  </tbody>\n",
       "</table>\n",
       "</div>"
      ],
      "text/plain": [
       "   work_year experience_level employment_type                 job_title  \\\n",
       "0       2023               SE              FT  Principal Data Scientist   \n",
       "1       2023               MI              CT               ML Engineer   \n",
       "2       2023               MI              CT               ML Engineer   \n",
       "3       2023               SE              FT            Data Scientist   \n",
       "4       2023               SE              FT            Data Scientist   \n",
       "\n",
       "     salary salary_currency  salary_in_usd employee_residence  remote_ratio  \\\n",
       "0   80000.0             EUR        85847.0                 ES           100   \n",
       "1   30000.0             USD        30000.0                NaN           100   \n",
       "2   25500.0             USD        25500.0                 US           100   \n",
       "3  175000.0             USD       175000.0                 CA           100   \n",
       "4  120000.0             USD       120000.0                 CA           100   \n",
       "\n",
       "  company_location company_size  \n",
       "0               ES            L  \n",
       "1               US            S  \n",
       "2               US            S  \n",
       "3               CA            M  \n",
       "4               CA            M  "
      ]
     },
     "execution_count": 6,
     "metadata": {},
     "output_type": "execute_result"
    }
   ],
   "source": [
    "data = pd.read_csv('../ds_salaries_damaged.csv', sep=\",\")\n",
    "print(data.shape)\n",
    "data.head()"
   ]
  },
  {
   "attachments": {},
   "cell_type": "markdown",
   "metadata": {},
   "source": [
    "### Обработка пропусков"
   ]
  },
  {
   "cell_type": "code",
   "execution_count": 26,
   "metadata": {},
   "outputs": [
    {
     "data": {
      "text/plain": [
       "[('salary', 20, '0.005'),\n",
       " ('salary_in_usd', 20, '0.005'),\n",
       " ('employee_residence', 27, '0.007')]"
      ]
     },
     "execution_count": 26,
     "metadata": {},
     "output_type": "execute_result"
    }
   ],
   "source": [
    "cols_with_na = [c for c in data.columns if data[c].isnull().sum() > 0]\n",
    "[(c, data[c].isnull().sum(), \"%.3f\" % data[c].isnull().mean()) for c in cols_with_na]"
   ]
  },
  {
   "attachments": {},
   "cell_type": "markdown",
   "metadata": {},
   "source": [
    "Обработка пропусков для числовых признаков с помощью KNNImputer"
   ]
  },
  {
   "cell_type": "code",
   "execution_count": 40,
   "metadata": {},
   "outputs": [
    {
     "name": "stdout",
     "output_type": "stream",
     "text": [
      "(3755, 11)\n"
     ]
    },
    {
     "data": {
      "text/plain": [
       "[('salary', 0, '0.000'),\n",
       " ('salary_in_usd', 0, '0.000'),\n",
       " ('employee_residence', 27, '0.007')]"
      ]
     },
     "execution_count": 40,
     "metadata": {},
     "output_type": "execute_result"
    }
   ],
   "source": [
    "knnimputer = KNNImputer(\n",
    "    n_neighbors=5, \n",
    "    weights='distance', \n",
    "    metric='nan_euclidean', \n",
    "    add_indicator=False, \n",
    ")\n",
    "\n",
    "cols_to_impute = ['salary', 'salary_in_usd']\n",
    "num_data_imputed = data.copy()\n",
    "num_data_imputed[cols_to_impute] = knnimputer.fit_transform(data[cols_to_impute])\n",
    "\n",
    "print(num_data_imputed.shape)\n",
    "[(c, num_data_imputed[c].isnull().sum(), \"%.3f\" % num_data_imputed[c].isnull().mean()) for c in cols_with_na]"
   ]
  },
  {
   "attachments": {},
   "cell_type": "markdown",
   "metadata": {},
   "source": [
    "Обработка пропусков для категориального признака с помощью SipleImputer с заполнением пропусков самым популярным значением"
   ]
  },
  {
   "cell_type": "code",
   "execution_count": 39,
   "metadata": {},
   "outputs": [
    {
     "name": "stdout",
     "output_type": "stream",
     "text": [
      "(3755, 11)\n"
     ]
    },
    {
     "data": {
      "text/plain": [
       "[('salary', 0, '0.000'),\n",
       " ('salary_in_usd', 0, '0.000'),\n",
       " ('employee_residence', 0, '0.000')]"
      ]
     },
     "execution_count": 39,
     "metadata": {},
     "output_type": "execute_result"
    }
   ],
   "source": [
    "simpleimputer = SimpleImputer(\n",
    "    strategy='most_frequent'\n",
    ")\n",
    "cols_to_impute = ['employee_residence']\n",
    "cat_data_imputed = num_data_imputed.copy()\n",
    "cat_data_imputed[cols_to_impute] = simpleimputer.fit_transform(data[cols_to_impute])\n",
    "\n",
    "print(cat_data_imputed.shape)\n",
    "[(c, cat_data_imputed[c].isnull().sum(), \"%.3f\" % cat_data_imputed[c].isnull().mean()) for c in cols_with_na]"
   ]
  },
  {
   "attachments": {},
   "cell_type": "markdown",
   "metadata": {},
   "source": [
    "### Кодирование категориальных признаков методом Count Encoding"
   ]
  },
  {
   "cell_type": "code",
   "execution_count": 52,
   "metadata": {},
   "outputs": [
    {
     "name": "stdout",
     "output_type": "stream",
     "text": [
      "['SE' 'MI' 'EN' 'EX'] \n",
      "\n",
      "[2516  805  320  114] \n",
      "\n",
      "[0.67003995 0.21438083 0.08521971 0.03035952]\n"
     ]
    }
   ],
   "source": [
    "print(cat_data_imputed[\"experience_level\"].unique(), '\\n')\n",
    "\n",
    "# Без нормализации\n",
    "encoder_test = ce_CountEncoder()\n",
    "col_encoded_test = encoder_test.fit_transform(cat_data_imputed[['experience_level']])\n",
    "print(col_encoded_test[\"experience_level\"].unique(), '\\n')\n",
    "\n",
    "# С нормализацией\n",
    "encoder = ce_CountEncoder(normalize=True)\n",
    "col_encoded = encoder.fit_transform(cat_data_imputed[['experience_level']])\n",
    "print(col_encoded[\"experience_level\"].unique())"
   ]
  },
  {
   "cell_type": "code",
   "execution_count": 46,
   "metadata": {},
   "outputs": [
    {
     "data": {
      "text/html": [
       "<div>\n",
       "<style scoped>\n",
       "    .dataframe tbody tr th:only-of-type {\n",
       "        vertical-align: middle;\n",
       "    }\n",
       "\n",
       "    .dataframe tbody tr th {\n",
       "        vertical-align: top;\n",
       "    }\n",
       "\n",
       "    .dataframe thead th {\n",
       "        text-align: right;\n",
       "    }\n",
       "</style>\n",
       "<table border=\"1\" class=\"dataframe\">\n",
       "  <thead>\n",
       "    <tr style=\"text-align: right;\">\n",
       "      <th></th>\n",
       "      <th>work_year</th>\n",
       "      <th>experience_level</th>\n",
       "      <th>employment_type</th>\n",
       "      <th>job_title</th>\n",
       "      <th>salary</th>\n",
       "      <th>salary_currency</th>\n",
       "      <th>salary_in_usd</th>\n",
       "      <th>employee_residence</th>\n",
       "      <th>remote_ratio</th>\n",
       "      <th>company_location</th>\n",
       "      <th>company_size</th>\n",
       "    </tr>\n",
       "  </thead>\n",
       "  <tbody>\n",
       "    <tr>\n",
       "      <th>0</th>\n",
       "      <td>2023</td>\n",
       "      <td>0.670040</td>\n",
       "      <td>FT</td>\n",
       "      <td>Principal Data Scientist</td>\n",
       "      <td>80000.0</td>\n",
       "      <td>EUR</td>\n",
       "      <td>85847.0</td>\n",
       "      <td>ES</td>\n",
       "      <td>100</td>\n",
       "      <td>ES</td>\n",
       "      <td>L</td>\n",
       "    </tr>\n",
       "    <tr>\n",
       "      <th>1</th>\n",
       "      <td>2023</td>\n",
       "      <td>0.214381</td>\n",
       "      <td>CT</td>\n",
       "      <td>ML Engineer</td>\n",
       "      <td>30000.0</td>\n",
       "      <td>USD</td>\n",
       "      <td>30000.0</td>\n",
       "      <td>US</td>\n",
       "      <td>100</td>\n",
       "      <td>US</td>\n",
       "      <td>S</td>\n",
       "    </tr>\n",
       "    <tr>\n",
       "      <th>2</th>\n",
       "      <td>2023</td>\n",
       "      <td>0.214381</td>\n",
       "      <td>CT</td>\n",
       "      <td>ML Engineer</td>\n",
       "      <td>25500.0</td>\n",
       "      <td>USD</td>\n",
       "      <td>25500.0</td>\n",
       "      <td>US</td>\n",
       "      <td>100</td>\n",
       "      <td>US</td>\n",
       "      <td>S</td>\n",
       "    </tr>\n",
       "    <tr>\n",
       "      <th>3</th>\n",
       "      <td>2023</td>\n",
       "      <td>0.670040</td>\n",
       "      <td>FT</td>\n",
       "      <td>Data Scientist</td>\n",
       "      <td>175000.0</td>\n",
       "      <td>USD</td>\n",
       "      <td>175000.0</td>\n",
       "      <td>CA</td>\n",
       "      <td>100</td>\n",
       "      <td>CA</td>\n",
       "      <td>M</td>\n",
       "    </tr>\n",
       "    <tr>\n",
       "      <th>4</th>\n",
       "      <td>2023</td>\n",
       "      <td>0.670040</td>\n",
       "      <td>FT</td>\n",
       "      <td>Data Scientist</td>\n",
       "      <td>120000.0</td>\n",
       "      <td>USD</td>\n",
       "      <td>120000.0</td>\n",
       "      <td>CA</td>\n",
       "      <td>100</td>\n",
       "      <td>CA</td>\n",
       "      <td>M</td>\n",
       "    </tr>\n",
       "  </tbody>\n",
       "</table>\n",
       "</div>"
      ],
      "text/plain": [
       "   work_year  experience_level employment_type                 job_title  \\\n",
       "0       2023          0.670040              FT  Principal Data Scientist   \n",
       "1       2023          0.214381              CT               ML Engineer   \n",
       "2       2023          0.214381              CT               ML Engineer   \n",
       "3       2023          0.670040              FT            Data Scientist   \n",
       "4       2023          0.670040              FT            Data Scientist   \n",
       "\n",
       "     salary salary_currency  salary_in_usd employee_residence  remote_ratio  \\\n",
       "0   80000.0             EUR        85847.0                 ES           100   \n",
       "1   30000.0             USD        30000.0                 US           100   \n",
       "2   25500.0             USD        25500.0                 US           100   \n",
       "3  175000.0             USD       175000.0                 CA           100   \n",
       "4  120000.0             USD       120000.0                 CA           100   \n",
       "\n",
       "  company_location company_size  \n",
       "0               ES            L  \n",
       "1               US            S  \n",
       "2               US            S  \n",
       "3               CA            M  \n",
       "4               CA            M  "
      ]
     },
     "execution_count": 46,
     "metadata": {},
     "output_type": "execute_result"
    }
   ],
   "source": [
    "data_encoded = cat_data_imputed.copy()\n",
    "data_encoded['experience_level'] = col_encoded\n",
    "data_encoded.head()"
   ]
  },
  {
   "attachments": {},
   "cell_type": "markdown",
   "metadata": {},
   "source": [
    "### Нормализация числовых признаков методом Йео-Джонсона\n",
    "\n",
    "До преобразования Йео-Джонсона"
   ]
  },
  {
   "cell_type": "code",
   "execution_count": 55,
   "metadata": {},
   "outputs": [
    {
     "data": {
      "text/plain": [
       "(array([135., 264., 422., 592., 736., 595., 418., 291., 170.,  54.,  48.,\n",
       "          9.,   7.,   7.,   3.,   4.]),\n",
       " array([  5132.  ,  32936.25,  60740.5 ,  88544.75, 116349.  , 144153.25,\n",
       "        171957.5 , 199761.75, 227566.  , 255370.25, 283174.5 , 310978.75,\n",
       "        338783.  , 366587.25, 394391.5 , 422195.75, 450000.  ]),\n",
       " <BarContainer object of 16 artists>)"
      ]
     },
     "execution_count": 55,
     "metadata": {},
     "output_type": "execute_result"
    },
    {
     "data": {
      "image/png": "[encoded data removed]",
      "text/plain": [
       "<Figure size 432x288 with 1 Axes>"
      ]
     },
     "metadata": {},
     "output_type": "display_data"
    }
   ],
   "source": [
    "plt.hist(data_encoded['salary_in_usd'], bins=16)"
   ]
  },
  {
   "attachments": {},
   "cell_type": "markdown",
   "metadata": {},
   "source": [
    "После преобразования Йео-Джонсона"
   ]
  },
  {
   "cell_type": "code",
   "execution_count": 56,
   "metadata": {},
   "outputs": [
    {
     "data": {
      "text/plain": [
       "(array([ 59.,  76., 164., 266., 388., 578., 694., 605., 457., 212., 151.,\n",
       "         65.,  19.,   9.,   6.,   6.]),\n",
       " array([  513.68039485,  1177.21680997,  1840.75322509,  2504.28964021,\n",
       "         3167.82605533,  3831.36247045,  4494.89888557,  5158.43530069,\n",
       "         5821.97171581,  6485.50813093,  7149.04454605,  7812.58096117,\n",
       "         8476.1173763 ,  9139.65379142,  9803.19020654, 10466.72662166,\n",
       "        11130.26303678]),\n",
       " <BarContainer object of 16 artists>)"
      ]
     },
     "execution_count": 56,
     "metadata": {},
     "output_type": "execute_result"
    },
    {
     "data": {
      "image/png": "[encoded data removed]",
      "text/plain": [
       "<Figure size 432x288 with 1 Axes>"
      ]
     },
     "metadata": {},
     "output_type": "display_data"
    }
   ],
   "source": [
    "normalized_col, params = stats.yeojohnson(data_encoded['salary_in_usd']) \n",
    "plt.hist(normalized_col, bins=16)"
   ]
  }
 ],
 "metadata": {
  "kernelspec": {
   "display_name": "Python 3",
   "language": "python",
   "name": "python3"
  },
  "language_info": {
   "codemirror_mode": {
    "name": "ipython",
    "version": 3
   },
   "file_extension": ".py",
   "mimetype": "text/x-python",
   "name": "python",
   "nbconvert_exporter": "python",
   "pygments_lexer": "ipython3",
   "version": "3.9.5"
  },
  "orig_nbformat": 4
 },
 "nbformat": 4,
 "nbformat_minor": 2
}
